{
 "cells": [
  {
   "cell_type": "markdown",
   "id": "081f42c6-56cf-4a72-ad04-f33619787e7f",
   "metadata": {},
   "source": [
    "# Fresco Constructor\n",
    "\n",
    "This code is used for constructing [FRESCO](http://www.fresco.org.uk/) coupled-channel reaction input files.\n",
    "\n",
    "This code is only suitable for (d,p) reactions."
   ]
  },
  {
   "cell_type": "code",
   "execution_count": 2,
   "id": "0c6990fa-8cf3-4e49-a749-6db24b64356a",
   "metadata": {},
   "outputs": [],
   "source": [
    "#imports\n",
    "import numpy as np\n",
    "import pandas as pd\n",
    "import re"
   ]
  },
  {
   "cell_type": "markdown",
   "id": "c9045c7b-679b-4cda-aaca-23de70cda8d2",
   "metadata": {},
   "source": [
    "### Mass Data Imports\n",
    "\n",
    "Here we import the [Atomic Mass Evaluation 2020](https://www-nds.iaea.org/amdc/) for use in the reaction codes."
   ]
  },
  {
   "cell_type": "code",
   "execution_count": 4,
   "id": "28ab186c-2c8d-4dcc-b3a4-4986d9a17409",
   "metadata": {},
   "outputs": [],
   "source": [
    "#import NNDC Masses as a Pandas DataFrame\n",
    "masses = pd.read_fwf(\"mass_1.mas20.txt\",skiprows=33,infer_nrows=3500) \n",
    "#infer rows to almost the entire thing so that it parses the larger N,Z,A values correctly\n"
   ]
  },
  {
   "cell_type": "code",
   "execution_count": 5,
   "id": "ddc4e81f-7a91-4ae2-a144-980ae67b5476",
   "metadata": {},
   "outputs": [],
   "source": [
    "#masses.head()"
   ]
  },
  {
   "cell_type": "code",
   "execution_count": 6,
   "id": "36e02587-a302-4d80-bd32-c92ed0ae605b",
   "metadata": {},
   "outputs": [],
   "source": [
    "#drop some columns we don't care about\n",
    "masses.drop(['1N-Z','O','MASS EXCESS           BINDING ENERGY/A        BETA-DECAY ENERGY'],axis=1,inplace=True)\n"
   ]
  },
  {
   "cell_type": "code",
   "execution_count": 7,
   "id": "5c0d5e08-da28-4b70-8258-500854c5b524",
   "metadata": {},
   "outputs": [],
   "source": [
    "#drop the units underneath the header keys\n",
    "masses.drop([0],axis=0,inplace=True)"
   ]
  },
  {
   "cell_type": "code",
   "execution_count": 8,
   "id": "e821c719-2aaa-4320-8886-fd9a65dedc95",
   "metadata": {},
   "outputs": [],
   "source": [
    "#masses.head()"
   ]
  },
  {
   "cell_type": "code",
   "execution_count": 9,
   "id": "8ddfb901-e1b5-4f0f-a4c7-835e49429f79",
   "metadata": {},
   "outputs": [],
   "source": [
    "#convert the split mass (in micro-amu) into a single micro-amu column\n",
    "masses['Atomic Mass (micro-amu)'] = masses['ATOMIC MASS'].apply(lambda x: float(x.split(\"#\")[0])) + masses['Unnamed: 7']*1e6\n",
    "#the split(\"#\") is needed to remove any of the \"#\" that appear due to estimated errors \n",
    "\n",
    "#if *'s are also present in the data:\n",
    "#masses['Atomic Mass'] = masses['ATOMIC MASS'].apply(lambda x: float(re.split(\"# *\",x)[0])) + masses['Unnamed: 7']*1e6\n"
   ]
  },
  {
   "cell_type": "code",
   "execution_count": 10,
   "id": "26d709df-511c-4071-83fa-13b312ab18ec",
   "metadata": {},
   "outputs": [],
   "source": [
    "#create masses in MeV\n",
    "masses['Atomic Mass (MeV)'] = masses['Atomic Mass (micro-amu)'] *931.5/1.e6 #931.5 MeV = 1 amu. Also convert from micro-amu to amu"
   ]
  },
  {
   "cell_type": "code",
   "execution_count": 11,
   "id": "a7cd2269-3dd1-4b3b-9cc2-09eacf94ddc4",
   "metadata": {},
   "outputs": [
    {
     "data": {
      "text/html": [
       "<div>\n",
       "<style scoped>\n",
       "    .dataframe tbody tr th:only-of-type {\n",
       "        vertical-align: middle;\n",
       "    }\n",
       "\n",
       "    .dataframe tbody tr th {\n",
       "        vertical-align: top;\n",
       "    }\n",
       "\n",
       "    .dataframe thead th {\n",
       "        text-align: right;\n",
       "    }\n",
       "</style>\n",
       "<table border=\"1\" class=\"dataframe\">\n",
       "  <thead>\n",
       "    <tr style=\"text-align: right;\">\n",
       "      <th></th>\n",
       "      <th>N</th>\n",
       "      <th>Z</th>\n",
       "      <th>A</th>\n",
       "      <th>EL</th>\n",
       "      <th>Unnamed: 7</th>\n",
       "      <th>ATOMIC MASS</th>\n",
       "      <th>Unnamed: 9</th>\n",
       "      <th>Atomic Mass (micro-amu)</th>\n",
       "      <th>Atomic Mass (MeV)</th>\n",
       "    </tr>\n",
       "  </thead>\n",
       "  <tbody>\n",
       "    <tr>\n",
       "      <th>1</th>\n",
       "      <td>1.0</td>\n",
       "      <td>0.0</td>\n",
       "      <td>1.0</td>\n",
       "      <td>n</td>\n",
       "      <td>1.0</td>\n",
       "      <td>008664.91590</td>\n",
       "      <td>0.00047</td>\n",
       "      <td>1.008665e+06</td>\n",
       "      <td>939.571369</td>\n",
       "    </tr>\n",
       "    <tr>\n",
       "      <th>2</th>\n",
       "      <td>0.0</td>\n",
       "      <td>1.0</td>\n",
       "      <td>1.0</td>\n",
       "      <td>H</td>\n",
       "      <td>1.0</td>\n",
       "      <td>007825.031898</td>\n",
       "      <td>0.000014</td>\n",
       "      <td>1.007825e+06</td>\n",
       "      <td>938.789017</td>\n",
       "    </tr>\n",
       "    <tr>\n",
       "      <th>3</th>\n",
       "      <td>1.0</td>\n",
       "      <td>1.0</td>\n",
       "      <td>2.0</td>\n",
       "      <td>H</td>\n",
       "      <td>2.0</td>\n",
       "      <td>014101.777844</td>\n",
       "      <td>0.000015</td>\n",
       "      <td>2.014102e+06</td>\n",
       "      <td>1876.135806</td>\n",
       "    </tr>\n",
       "    <tr>\n",
       "      <th>4</th>\n",
       "      <td>2.0</td>\n",
       "      <td>1.0</td>\n",
       "      <td>3.0</td>\n",
       "      <td>H</td>\n",
       "      <td>3.0</td>\n",
       "      <td>016049.28132</td>\n",
       "      <td>0.00008</td>\n",
       "      <td>3.016049e+06</td>\n",
       "      <td>2809.449906</td>\n",
       "    </tr>\n",
       "    <tr>\n",
       "      <th>5</th>\n",
       "      <td>1.0</td>\n",
       "      <td>2.0</td>\n",
       "      <td>3.0</td>\n",
       "      <td>He</td>\n",
       "      <td>3.0</td>\n",
       "      <td>016029.32197</td>\n",
       "      <td>0.00006</td>\n",
       "      <td>3.016029e+06</td>\n",
       "      <td>2809.431313</td>\n",
       "    </tr>\n",
       "  </tbody>\n",
       "</table>\n",
       "</div>"
      ],
      "text/plain": [
       "     N    Z    A  EL  Unnamed: 7    ATOMIC MASS Unnamed: 9  \\\n",
       "1  1.0  0.0  1.0   n         1.0   008664.91590    0.00047   \n",
       "2  0.0  1.0  1.0   H         1.0  007825.031898   0.000014   \n",
       "3  1.0  1.0  2.0   H         2.0  014101.777844   0.000015   \n",
       "4  2.0  1.0  3.0   H         3.0   016049.28132    0.00008   \n",
       "5  1.0  2.0  3.0  He         3.0   016029.32197    0.00006   \n",
       "\n",
       "   Atomic Mass (micro-amu)  Atomic Mass (MeV)  \n",
       "1             1.008665e+06         939.571369  \n",
       "2             1.007825e+06         938.789017  \n",
       "3             2.014102e+06        1876.135806  \n",
       "4             3.016049e+06        2809.449906  \n",
       "5             3.016029e+06        2809.431313  "
      ]
     },
     "execution_count": 11,
     "metadata": {},
     "output_type": "execute_result"
    }
   ],
   "source": [
    "masses.head()"
   ]
  },
  {
   "cell_type": "code",
   "execution_count": 12,
   "id": "a1e01726-72bb-4f6c-96c4-ca859d787dd1",
   "metadata": {},
   "outputs": [],
   "source": [
    "#function for retrieving the isotope mass\n",
    "def get_isotope_mass(element,A):\n",
    "    try:\n",
    "        mass = float(masses[(masses['EL']== element) & (masses['A'] == A)]['Atomic Mass (MeV)'].iloc[0])\n",
    "    except:\n",
    "        #if the mass is not present in the AME, return 0 to signal to get_user_isotope that the user should try again\n",
    "        return 0\n",
    "    else:\n",
    "        return mass    \n",
    "    \n",
    "    \n",
    "    return float(masses[(masses['EL']== element) & (masses['A'] == A)]['Atomic Mass (MeV)'].iloc[0])\n",
    "    #.iloc[0] is needed to avoid deprecated TypeError warning\n"
   ]
  },
  {
   "cell_type": "code",
   "execution_count": 51,
   "id": "fa3163c2-47c6-4b28-b4c8-4c4978886a4f",
   "metadata": {},
   "outputs": [],
   "source": [
    "#all of the elements\n",
    "atomicElements = \"H He Li Be B C N O F Ne Na Mg Al Si P S Cl Ar K Ca Sc Ti V Cr Mn Fe Co Ni Cu Zn Ga Ge As Se Br Kr Rb Sr Y Zr Nb Mo Tc Ru Rh Pd Ag Cd In Sn Sb Te I Xe Cs Ba La Ce P Nd Pm Sm Eu Gd Tb Dy Ho Er Tm Yb Lu Hf Ta W Re Os Ir Pt Au Hg Tl Pb Bi Po At Rn Fr Ra Ac Th Pa U Np Pu Am Cm Bk Cf Es Fm Md No Lr Rf Db Sg Bh Hs Mt Ds Rg Cn Nh Fl Mc Lv Ts Og\".split(\" \")\n",
    "\n",
    "#function for getting user input for \n",
    "def get_user_isotope():\n",
    "    isotope_mass = 0\n",
    "    \n",
    "    while not isotope_mass:\n",
    "    \n",
    "        element = \"BAD\"\n",
    "        mass_number = -1\n",
    "        \n",
    "        #get the element\n",
    "        while element not in atomicElements:\n",
    "            element = input(\"Please enter the name (ex: Kr):\" )\n",
    "        \n",
    "        #get the mass number\n",
    "        while mass_number not in range(1,300):\n",
    "            try:\n",
    "                mass_number = int(input(\"Please enter the mass number: \"))\n",
    "            except:\n",
    "                print(\"Looks like you did not enter an integer!\")\n",
    "            else:\n",
    "                if (mass_number not in range(1,300)):\n",
    "                    print(\"Mass number out of range!\\nMust have mass 1-300\")\n",
    "            \n",
    "        isotope_mass = get_isotope_mass(element,mass_number)\n",
    "        #if this returns 0, then the mass is not found in the AME2020.\n",
    "    \n",
    "\n",
    "        if not isotope_mass:\n",
    "            print(f'Isotope {mass_number}{element} does not exist in the AME2020. Try again!')\n",
    "\n",
    "        print(f'Selected isotope: {mass_number}{element}, mass {round(isotope_mass,3)} MeV')\n"
   ]
  },
  {
   "cell_type": "code",
   "execution_count": 53,
   "id": "fb80151b-7b17-4e6a-a572-ef9ff1ed6b8c",
   "metadata": {},
   "outputs": [
    {
     "name": "stdin",
     "output_type": "stream",
     "text": [
      "Please enter the name (ex: Kr): Kr\n",
      "Please enter the mass number:  77\n"
     ]
    },
    {
     "name": "stdout",
     "output_type": "stream",
     "text": [
      "Selected isotope: 77Kr, mass 71655.33 MeV\n"
     ]
    }
   ],
   "source": [
    "get_user_isotope()"
   ]
  },
  {
   "cell_type": "code",
   "execution_count": null,
   "id": "86f72395-c6c7-4959-b8a4-ceae3a1a0cd9",
   "metadata": {},
   "outputs": [],
   "source": []
  },
  {
   "cell_type": "code",
   "execution_count": null,
   "id": "f5d2b835-e746-40a3-9747-f9c3ff1f3df4",
   "metadata": {},
   "outputs": [],
   "source": []
  }
 ],
 "metadata": {
  "kernelspec": {
   "display_name": "Python 3 (ipykernel)",
   "language": "python",
   "name": "python3"
  },
  "language_info": {
   "codemirror_mode": {
    "name": "ipython",
    "version": 3
   },
   "file_extension": ".py",
   "mimetype": "text/x-python",
   "name": "python",
   "nbconvert_exporter": "python",
   "pygments_lexer": "ipython3",
   "version": "3.12.4"
  }
 },
 "nbformat": 4,
 "nbformat_minor": 5
}
