{
 "cells": [
  {
   "cell_type": "markdown",
   "id": "081f42c6-56cf-4a72-ad04-f33619787e7f",
   "metadata": {},
   "source": [
    "# Fresco Constructor\n",
    "\n",
    "This code is used for constructing [FRESCO](http://www.fresco.org.uk/) coupled-channel reaction input files.\n",
    "\n",
    "This code is only suitable for (d,p) reactions."
   ]
  },
  {
   "cell_type": "code",
   "execution_count": 2,
   "id": "0c6990fa-8cf3-4e49-a749-6db24b64356a",
   "metadata": {},
   "outputs": [],
   "source": [
    "#imports\n",
    "import numpy as np\n",
    "import pandas as pd\n",
    "import re"
   ]
  },
  {
   "cell_type": "markdown",
   "id": "c9045c7b-679b-4cda-aaca-23de70cda8d2",
   "metadata": {},
   "source": [
    "### Mass Data Imports\n",
    "\n",
    "Here we import the [Atomic Mass Evaluation 2020](https://www-nds.iaea.org/amdc/) for use in the reaction codes."
   ]
  },
  {
   "cell_type": "code",
   "execution_count": 4,
   "id": "28ab186c-2c8d-4dcc-b3a4-4986d9a17409",
   "metadata": {},
   "outputs": [],
   "source": [
    "#import NNDC Masses as a Pandas DataFrame\n",
    "masses = pd.read_fwf(\"mass_1.mas20.txt\",skiprows=33,infer_nrows=3500) \n",
    "#infer rows to almost the entire thing so that it parses the larger N,Z,A values correctly\n"
   ]
  },
  {
   "cell_type": "code",
   "execution_count": 5,
   "id": "ddc4e81f-7a91-4ae2-a144-980ae67b5476",
   "metadata": {},
   "outputs": [],
   "source": [
    "#masses.head()"
   ]
  },
  {
   "cell_type": "code",
   "execution_count": 6,
   "id": "36e02587-a302-4d80-bd32-c92ed0ae605b",
   "metadata": {},
   "outputs": [],
   "source": [
    "#drop some columns we don't care about\n",
    "masses.drop(['1N-Z','O','MASS EXCESS           BINDING ENERGY/A        BETA-DECAY ENERGY'],axis=1,inplace=True)\n"
   ]
  },
  {
   "cell_type": "code",
   "execution_count": 7,
   "id": "5c0d5e08-da28-4b70-8258-500854c5b524",
   "metadata": {},
   "outputs": [],
   "source": [
    "#drop the units underneath the header keys\n",
    "masses.drop([0],axis=0,inplace=True)"
   ]
  },
  {
   "cell_type": "code",
   "execution_count": 8,
   "id": "e821c719-2aaa-4320-8886-fd9a65dedc95",
   "metadata": {},
   "outputs": [],
   "source": [
    "#masses.head()"
   ]
  },
  {
   "cell_type": "code",
   "execution_count": 9,
   "id": "8ddfb901-e1b5-4f0f-a4c7-835e49429f79",
   "metadata": {},
   "outputs": [],
   "source": [
    "#convert the split mass (in micro-amu) into a single micro-amu column\n",
    "masses['Atomic Mass (micro-amu)'] = masses['ATOMIC MASS'].apply(lambda x: float(x.split(\"#\")[0])) + masses['Unnamed: 7']*1e6\n",
    "#the split(\"#\") is needed to remove any of the \"#\" that appear due to estimated errors \n",
    "\n",
    "#if *'s are also present in the data:\n",
    "#masses['Atomic Mass'] = masses['ATOMIC MASS'].apply(lambda x: float(re.split(\"# *\",x)[0])) + masses['Unnamed: 7']*1e6\n"
   ]
  },
  {
   "cell_type": "code",
   "execution_count": 10,
   "id": "26d709df-511c-4071-83fa-13b312ab18ec",
   "metadata": {},
   "outputs": [],
   "source": [
    "#create masses in MeV\n",
    "masses['Atomic Mass (MeV)'] = masses['Atomic Mass (micro-amu)'] *931.5/1.e6 #931.5 MeV = 1 amu. Also convert from micro-amu to amu"
   ]
  },
  {
   "cell_type": "code",
   "execution_count": 11,
   "id": "a7cd2269-3dd1-4b3b-9cc2-09eacf94ddc4",
   "metadata": {},
   "outputs": [
    {
     "data": {
      "text/html": [
       "<div>\n",
       "<style scoped>\n",
       "    .dataframe tbody tr th:only-of-type {\n",
       "        vertical-align: middle;\n",
       "    }\n",
       "\n",
       "    .dataframe tbody tr th {\n",
       "        vertical-align: top;\n",
       "    }\n",
       "\n",
       "    .dataframe thead th {\n",
       "        text-align: right;\n",
       "    }\n",
       "</style>\n",
       "<table border=\"1\" class=\"dataframe\">\n",
       "  <thead>\n",
       "    <tr style=\"text-align: right;\">\n",
       "      <th></th>\n",
       "      <th>N</th>\n",
       "      <th>Z</th>\n",
       "      <th>A</th>\n",
       "      <th>EL</th>\n",
       "      <th>Unnamed: 7</th>\n",
       "      <th>ATOMIC MASS</th>\n",
       "      <th>Unnamed: 9</th>\n",
       "      <th>Atomic Mass (micro-amu)</th>\n",
       "      <th>Atomic Mass (MeV)</th>\n",
       "    </tr>\n",
       "  </thead>\n",
       "  <tbody>\n",
       "    <tr>\n",
       "      <th>1</th>\n",
       "      <td>1.0</td>\n",
       "      <td>0.0</td>\n",
       "      <td>1.0</td>\n",
       "      <td>n</td>\n",
       "      <td>1.0</td>\n",
       "      <td>008664.91590</td>\n",
       "      <td>0.00047</td>\n",
       "      <td>1.008665e+06</td>\n",
       "      <td>939.571369</td>\n",
       "    </tr>\n",
       "    <tr>\n",
       "      <th>2</th>\n",
       "      <td>0.0</td>\n",
       "      <td>1.0</td>\n",
       "      <td>1.0</td>\n",
       "      <td>H</td>\n",
       "      <td>1.0</td>\n",
       "      <td>007825.031898</td>\n",
       "      <td>0.000014</td>\n",
       "      <td>1.007825e+06</td>\n",
       "      <td>938.789017</td>\n",
       "    </tr>\n",
       "    <tr>\n",
       "      <th>3</th>\n",
       "      <td>1.0</td>\n",
       "      <td>1.0</td>\n",
       "      <td>2.0</td>\n",
       "      <td>H</td>\n",
       "      <td>2.0</td>\n",
       "      <td>014101.777844</td>\n",
       "      <td>0.000015</td>\n",
       "      <td>2.014102e+06</td>\n",
       "      <td>1876.135806</td>\n",
       "    </tr>\n",
       "    <tr>\n",
       "      <th>4</th>\n",
       "      <td>2.0</td>\n",
       "      <td>1.0</td>\n",
       "      <td>3.0</td>\n",
       "      <td>H</td>\n",
       "      <td>3.0</td>\n",
       "      <td>016049.28132</td>\n",
       "      <td>0.00008</td>\n",
       "      <td>3.016049e+06</td>\n",
       "      <td>2809.449906</td>\n",
       "    </tr>\n",
       "    <tr>\n",
       "      <th>5</th>\n",
       "      <td>1.0</td>\n",
       "      <td>2.0</td>\n",
       "      <td>3.0</td>\n",
       "      <td>He</td>\n",
       "      <td>3.0</td>\n",
       "      <td>016029.32197</td>\n",
       "      <td>0.00006</td>\n",
       "      <td>3.016029e+06</td>\n",
       "      <td>2809.431313</td>\n",
       "    </tr>\n",
       "  </tbody>\n",
       "</table>\n",
       "</div>"
      ],
      "text/plain": [
       "     N    Z    A  EL  Unnamed: 7    ATOMIC MASS Unnamed: 9  \\\n",
       "1  1.0  0.0  1.0   n         1.0   008664.91590    0.00047   \n",
       "2  0.0  1.0  1.0   H         1.0  007825.031898   0.000014   \n",
       "3  1.0  1.0  2.0   H         2.0  014101.777844   0.000015   \n",
       "4  2.0  1.0  3.0   H         3.0   016049.28132    0.00008   \n",
       "5  1.0  2.0  3.0  He         3.0   016029.32197    0.00006   \n",
       "\n",
       "   Atomic Mass (micro-amu)  Atomic Mass (MeV)  \n",
       "1             1.008665e+06         939.571369  \n",
       "2             1.007825e+06         938.789017  \n",
       "3             2.014102e+06        1876.135806  \n",
       "4             3.016049e+06        2809.449906  \n",
       "5             3.016029e+06        2809.431313  "
      ]
     },
     "execution_count": 11,
     "metadata": {},
     "output_type": "execute_result"
    }
   ],
   "source": [
    "masses.head()"
   ]
  },
  {
   "cell_type": "code",
   "execution_count": null,
   "id": "554d733a-4433-4baa-b412-2cd9e71023a1",
   "metadata": {},
   "outputs": [],
   "source": []
  },
  {
   "cell_type": "code",
   "execution_count": null,
   "id": "104f7213-a871-4b42-8206-cd00ccfd7f51",
   "metadata": {},
   "outputs": [],
   "source": []
  },
  {
   "cell_type": "code",
   "execution_count": 131,
   "id": "0dcdc5ae-a21a-4257-82a5-62b05ed13da0",
   "metadata": {},
   "outputs": [],
   "source": [
    "#class for an isotope\n",
    "#this will hold A,Z,El,mass, etc.\n",
    "class Isotope:\n",
    "\n",
    "    def __init__(self,A,El,J,parity,exc_eng=0,q_val = 0,L_trans = 0):\n",
    "        self.A = A\n",
    "        self.element = El\n",
    "        self.Z = get_proton_number(El)\n",
    "        self.mass = get_isotope_mass(El,A)\n",
    "        self.mass_amu = self.mass/931.5\n",
    "        self.spin = J\n",
    "        self.parity = parity\n",
    "        self.isotope = str(A)+El\n",
    "        self.exc_energy = exc_eng\n",
    "        self.q_value = q_val\n",
    "        self.L_transfer = L_trans\n",
    "\n",
    "    def __str__(self):\n",
    "        return f'''Isotope: {self.isotope}\\nA: {self.A}\\nElement: {self.element}\\nZ: {self.Z}\\nMass (MeV): {round(self.mass,3)}\n",
    "        \\rMass (amu): {round(self.mass_amu,3)}\\nJ: {self.spin}\\nParity: {self.parity}\\nExc. energy (MeV): {self.exc_energy}\n",
    "        \\rQ-value (MeV): {self.q_value}\\nL-transfer: {self.L_transfer}'''\n",
    "    "
   ]
  },
  {
   "cell_type": "code",
   "execution_count": 133,
   "id": "cb6fd87d-d37c-4e99-ba2d-5d260030ede7",
   "metadata": {},
   "outputs": [],
   "source": [
    "iso = Isotope(87,'Kr',0,-1)"
   ]
  },
  {
   "cell_type": "code",
   "execution_count": 135,
   "id": "48cfb1bb-27b9-45f8-ac6f-7bb82bbdcadc",
   "metadata": {},
   "outputs": [
    {
     "name": "stdout",
     "output_type": "stream",
     "text": [
      "Isotope: 87Kr\n",
      "A: 87\n",
      "Element: Kr\n",
      "Z: 36\n",
      "Mass (MeV): 80959.79\n",
      "Mass (amu): 86.913\n",
      "J: 0\n",
      "Parity: -1\n",
      "Exc. energy (MeV): 0\n",
      "Q-value (MeV): 0\n",
      "L-transfer: 0\n"
     ]
    }
   ],
   "source": [
    "print(iso)"
   ]
  },
  {
   "cell_type": "code",
   "execution_count": 15,
   "id": "a1e01726-72bb-4f6c-96c4-ca859d787dd1",
   "metadata": {},
   "outputs": [],
   "source": [
    "#function for retrieving the isotope mass\n",
    "def get_isotope_mass(element,A):\n",
    "    try:\n",
    "        mass = float(masses[(masses['EL']== element) & (masses['A'] == A)]['Atomic Mass (MeV)'].iloc[0])\n",
    "        #mass_amu = float(masses[(masses['EL']== element) & (masses['A'] == A)]['Atomic Mass (micro-amu)'].iloc[0])\n",
    "    except:\n",
    "        #if the mass is not present in the AME, return 0 to signal to get_user_isotope that the user should try again\n",
    "        return 0\n",
    "    else:\n",
    "        return mass\n",
    "    \n",
    "    \n",
    "    #return float(masses[(masses['EL']== element) & (masses['A'] == A)]['Atomic Mass (MeV)'].iloc[0])\n",
    "    #.iloc[0] is needed to avoid deprecated TypeError warning\n"
   ]
  },
  {
   "cell_type": "code",
   "execution_count": 16,
   "id": "fa3163c2-47c6-4b28-b4c8-4c4978886a4f",
   "metadata": {},
   "outputs": [],
   "source": [
    "#all of the elements\n",
    "atomicElements = \"H He Li Be B C N O F Ne Na Mg Al Si P S Cl Ar K Ca Sc Ti V Cr Mn Fe Co Ni Cu Zn Ga Ge As Se Br Kr Rb Sr Y Zr Nb Mo Tc Ru Rh Pd Ag Cd In Sn Sb Te I Xe Cs Ba La Ce P Nd Pm Sm Eu Gd Tb Dy Ho Er Tm Yb Lu Hf Ta W Re Os Ir Pt Au Hg Tl Pb Bi Po At Rn Fr Ra Ac Th Pa U Np Pu Am Cm Bk Cf Es Fm Md No Lr Rf Db Sg Bh Hs Mt Ds Rg Cn Nh Fl Mc Lv Ts Og\".split(\" \")\n",
    "\n",
    "#function for getting user input for \n",
    "def get_user_isotope():\n",
    "    isotope_mass = 0\n",
    "    \n",
    "    while not isotope_mass:\n",
    "    \n",
    "        element = \"BAD\"\n",
    "        mass_number = -1\n",
    "        \n",
    "        #get the element\n",
    "        while element not in atomicElements:\n",
    "            element = input(\"Please enter the name (ex: Kr):\" )\n",
    "        \n",
    "        #get the mass number\n",
    "        while mass_number not in range(1,300):\n",
    "            try:\n",
    "                mass_number = int(input(\"Please enter the mass number: \"))\n",
    "            except:\n",
    "                print(\"Looks like you did not enter an integer!\")\n",
    "            else:\n",
    "                if (mass_number not in range(1,300)):\n",
    "                    print(\"Mass number out of range!\\nMust have mass 1-300\")\n",
    "            \n",
    "        isotope_mass = get_isotope_mass(element,mass_number)\n",
    "        #if this returns 0, then the mass is not found in the AME2020.\n",
    "    \n",
    "\n",
    "        if not isotope_mass:\n",
    "            print(f'Isotope {mass_number}{element} does not exist in the AME2020. Try again!')\n",
    "\n",
    "        #print(f'Selected isotope: {mass_number}{element}, mass {round(isotope_mass,3)} MeV')\n",
    "\n",
    "    #now return this A,El, mass as a tuple\n",
    "    return (mass_number,element,isotope_mass)\n"
   ]
  },
  {
   "cell_type": "code",
   "execution_count": 17,
   "id": "fb80151b-7b17-4e6a-a572-ef9ff1ed6b8c",
   "metadata": {},
   "outputs": [],
   "source": [
    "#kr93 = get_user_isotope()\n",
    "#kr93"
   ]
  },
  {
   "cell_type": "code",
   "execution_count": 18,
   "id": "c20374e0-ca2f-4b8c-a26d-905f79d37716",
   "metadata": {},
   "outputs": [],
   "source": [
    "#get the beam energy\n",
    "\n",
    "def get_user_beam_energy():\n",
    "\n",
    "    beam_energy = -1\n",
    "    \n",
    "    #get the beam energy\n",
    "    while beam_energy < 0:\n",
    "        \n",
    "        try:\n",
    "            beam_energy = float(input(\"Enter total beam energy (MeV): \"))\n",
    "        except:\n",
    "            print(\"Beam energy is not a number (>0). Try again\")\n",
    "            #continue\n",
    "        else:\n",
    "            if (beam_energy > 0):\n",
    "                return beam_energy\n",
    "    "
   ]
  },
  {
   "cell_type": "code",
   "execution_count": 19,
   "id": "0f25c352-193c-49eb-b842-51b48ce501dc",
   "metadata": {},
   "outputs": [],
   "source": [
    "#get_user_beam_energy()"
   ]
  },
  {
   "cell_type": "code",
   "execution_count": 20,
   "id": "9587696f-8ddc-4397-a6ec-5fbcceaf78ae",
   "metadata": {},
   "outputs": [],
   "source": [
    "#simple function to determine the Z of the nucleus\n",
    "def get_proton_number(elem):\n",
    "    return atomicElements.index(elem)+1 #plus one because we index at 0 in the array. "
   ]
  },
  {
   "cell_type": "code",
   "execution_count": 21,
   "id": "338f57aa-ba59-4a71-84d1-f7b3c4cedb98",
   "metadata": {},
   "outputs": [],
   "source": [
    "#get_proton_number('Og')"
   ]
  },
  {
   "cell_type": "code",
   "execution_count": 22,
   "id": "86f72395-c6c7-4959-b8a4-ceae3a1a0cd9",
   "metadata": {},
   "outputs": [],
   "source": [
    "#initial setup of the FRESCO header info. This is mostly unchanged from reaction to reaction\n",
    "def construct_fresco_header(lab_energy):\n",
    "\n",
    "    file = open('build_template_files/NAMELIST.txt','r')\n",
    "    namelist_header = file.read()\n",
    "    namelist_header = namelist_header.replace(\"LAB_ENERGY\",str(lab_energy)) #lab energy in MeV\n",
    "        \n",
    "    #print(namelist_header)\n",
    "\n",
    "    return namelist_header\n"
   ]
  },
  {
   "cell_type": "code",
   "execution_count": 23,
   "id": "3d69c4dd-da80-4240-b13a-f1f2cf591fc4",
   "metadata": {},
   "outputs": [],
   "source": [
    "#partition function\n",
    "\n",
    "def construct_partition(beam,target,reac): #beam is a tuple of A,El,mass\n",
    "    file = open('build_template_files/PARTITION.txt','r')\n",
    "    partition_info = file.read()\n",
    "\n",
    "    #unpack tuples\n",
    "    #A,El,mass = beam\n",
    "    #A_targ, El_targ, mass_targ = target\n",
    "    q_val, n_states = reac\n",
    "\n",
    "    #reassign parts\n",
    "    partition_info = partition_info.replace('BEAM_ISOTOPE',beam.isotope)\n",
    "    #print(type(mass))\n",
    "    partition_info = partition_info.replace('BEAM_MASS',str(round(float(beam.mass_amu),3)))\n",
    "    partition_info = partition_info.replace('BEAM_Z', str(beam.Z)) #plus one because we index at 0, but periodic table indexes as t\n",
    "    partition_info = partition_info.replace('TARGET_NAME',target.isotope)\n",
    "    partition_info = partition_info.replace('TARGET_MASS',str(round(float(target.mass_amu),3)))\n",
    "    partition_info = partition_info.replace('TARGET_Z',str(target.Z)) #plus one because of indexing again\n",
    "    partition_info = partition_info.replace('Q_VALUE',str(q_val))\n",
    "    partition_info = partition_info.replace('NUM_STATES',str(n_states))\n",
    "    \n",
    "    #print(partition_info)\n",
    "    return partition_info\n",
    "\n",
    "\n"
   ]
  },
  {
   "cell_type": "code",
   "execution_count": 24,
   "id": "f5d2b835-e746-40a3-9747-f9c3ff1f3df4",
   "metadata": {},
   "outputs": [],
   "source": [
    "#construct_partition(('A','Kr','13.23423432'),('B','H','32.323242342'),('1.34','5'))"
   ]
  },
  {
   "cell_type": "code",
   "execution_count": 137,
   "id": "1c35d4bf-078c-4788-acd3-fc8da757b715",
   "metadata": {},
   "outputs": [],
   "source": [
    "#state function\n",
    "def construct_states(beam,target):\n",
    "    file = open('build_template_files/STATE.txt','r')\n",
    "    state_info = file.read()\n",
    "\n",
    "\n",
    "    state_info = state_info.replace('BEAM_J',str(beam.spin))\n",
    "    state_info = state_info.replace('BEAM_PARITY',str(beam.parity))\n",
    "    state_info = state_info.replace('TARGET_J',str(target.spin))\n",
    "    state_info = state_info.replace('TARGET_PARITY',str(target.parity))\n",
    "    state_info = state_info.replace('Q_VALUE',str(target.q_value))\n",
    "    \n",
    "    #print(state_info)\n",
    "    return state_info\n"
   ]
  },
  {
   "cell_type": "code",
   "execution_count": 153,
   "id": "2341f1c5-6d4d-43a5-a933-7bd7d878e0ab",
   "metadata": {},
   "outputs": [],
   "source": [
    "#get the spin-parity for the parent state\n",
    "def get_user_spin_parity(my_isotope):\n",
    "\n",
    "    #A,El,mass = beam\n",
    "   # Z = get_proton_number(El) #find the z of our nucleus\n",
    "\n",
    "    #if we have an even-even nucleus, return 0+\n",
    "    #return the form (spin,parity) where parity is defined by +-1\n",
    "    if (0 == my_isotope.A % 2) and (0 == my_isotope.Z % 2):\n",
    "        print(\"Even-even nucleus. Using spin 0+\")\n",
    "        my_isotope.spin = 0\n",
    "        my_isotope.parity = +1\n",
    "        return\n",
    "\n",
    "    #if we have a deuteron, we know what that is too:\n",
    "    elif (2 == my_isotope.A) and ('H' == my_isotope.element):\n",
    "        my_isotope.spin = 1\n",
    "        my_isotope.parity = +1\n",
    "        return \n",
    "\n",
    "    \n",
    "    else:\n",
    "        #get a spin that is an whole number of positive half-integer\n",
    "        get_user_spin(my_isotope)\n",
    "\n",
    "        \n",
    "        #now get the parity:\n",
    "        get_user_parity(my_isotope)\n",
    "\n",
    "    return\n",
    "\n",
    "\n",
    "#get spin function\n",
    "def get_user_spin(isotope):\n",
    "    #get a spin that is an whole number of positive half-integer\n",
    "    possible_spins = np.linspace(0,20,41) #unlikely to have a spin higher than 20\n",
    "    spin = -1\n",
    "    \n",
    "    while spin not in possible_spins:\n",
    "        try:\n",
    "            spin = float(input(\"Enter the spin: \"))\n",
    "        except:\n",
    "            print(\"Spin was not a number!\")\n",
    "            #continue\n",
    "        else:\n",
    "            if (spin not in possible_spins):\n",
    "                print(\"Spin is not an non-negative integer or half-integer!\")\n",
    "            else:\n",
    "                isotope.spin = spin\n",
    "    return\n",
    "\n",
    "\n",
    "#get parity function\n",
    "def get_user_parity(isotope):\n",
    "    #get the parity:\n",
    "    parity = 0\n",
    "    while parity not in (-1,1):\n",
    "        try:\n",
    "            parity = int(input(u\"Please enter the parity (\\u00B11): \"))\n",
    "        except:\n",
    "            print(\"Parity is not a number!\")\n",
    "        else:\n",
    "            if parity not in (-1,1):\n",
    "                print(u\"Parity not in \\u00B11\")\n",
    "            else:\n",
    "                isotope.parity = parity\n",
    "    return"
   ]
  },
  {
   "cell_type": "code",
   "execution_count": null,
   "id": "97f5240e-9bbb-4799-b804-4cce38f0cc9d",
   "metadata": {},
   "outputs": [],
   "source": []
  },
  {
   "cell_type": "code",
   "execution_count": 28,
   "id": "122d2f89-940d-4e3b-9349-27f11cae50e2",
   "metadata": {},
   "outputs": [],
   "source": [
    "#function for the number of states\n",
    "def get_user_number_states():\n",
    "    num_states = -1\n",
    "    while num_states < 1:\n",
    "        try:\n",
    "            num_states = int(input(\"Enter the number of states to populate: \"))\n",
    "        except:\n",
    "            print(\"Number of states must be a natural number!\")\n",
    "        else:\n",
    "            if (num_states > 0):\n",
    "                return num_states"
   ]
  },
  {
   "cell_type": "code",
   "execution_count": 29,
   "id": "0df01cab-f56d-4e6c-82d5-e49af5b4518f",
   "metadata": {},
   "outputs": [],
   "source": [
    "#get_user_number_states()"
   ]
  },
  {
   "cell_type": "code",
   "execution_count": 30,
   "id": "b9a1aca9-5a38-4b92-96d8-13e716736eda",
   "metadata": {},
   "outputs": [],
   "source": [
    "#function for populating states in the recoiling nucleus\n",
    "def get_user_excited_state(isotope):\n",
    "\n",
    "    get_user_excited_state_energy(isotope)\n",
    "    get_user_spin(isotope)\n",
    "    get_user_parity(isotope)\n",
    "    \n",
    "\n",
    "    return\n",
    "\n",
    "\n",
    "#get the energy itself\n",
    "def get_user_excited_state_energy(isotope):\n",
    "\n",
    "    energy  = -1\n",
    "    while energy < 0:\n",
    "        try:\n",
    "            energy = float(input(\"Enter the excited-state energy (MeV): \"))\n",
    "        except:\n",
    "            print(\"Energy must be a non-negative number!\")\n",
    "        else:\n",
    "            if (energy >= 0):\n",
    "                isotope.exc_energy = energy\n",
    "\n",
    "    return\n",
    "    \n"
   ]
  },
  {
   "cell_type": "code",
   "execution_count": 79,
   "id": "7d3aa416-174c-4b32-a7fb-25bddf3d6e38",
   "metadata": {},
   "outputs": [],
   "source": [
    "#functions to determine the recoil based on the ejectile\n",
    "def create_recoil(beam,target,ejectile):\n",
    "\n",
    "    mass_number = beam.A + target.A - ejectile.A\n",
    "    proton_number = beam.Z + target.Z -ejectile.Z\n",
    "\n",
    "    element = atomicElements[proton_number-1] #-1 because we index at 0\n",
    "\n",
    "    return Isotope(mass_number,element,-1,-1)\n",
    "    \n",
    "    "
   ]
  },
  {
   "cell_type": "code",
   "execution_count": 175,
   "id": "55d049cb-8a7c-4bad-9812-a9ab0ac0ef76",
   "metadata": {},
   "outputs": [],
   "source": [
    "#q-value calculation\n",
    "def calculate_q_value(beam,target,ejectile,recoil):\n",
    "    initial_mass = beam.mass + target.mass #in MeV\n",
    "    final_mass = ejectile.mass + recoil.mass #MeV\n",
    "    q_val = initial_mass - final_mass #q value is always the same for a given reaction no matter the excitation energy\n",
    "\n",
    "    recoil.q_value = q_val\n",
    "    return\n"
   ]
  },
  {
   "cell_type": "code",
   "execution_count": 177,
   "id": "9e41a96a-8cb9-41ea-8918-c7a132616cff",
   "metadata": {},
   "outputs": [],
   "source": [
    "#construction of the file in the function here\n",
    "\n",
    "def Fresco_constructor():\n",
    "\n",
    "    #First, get the beam that we want for the (d,p) reaction:\n",
    "    #isotopes are saved as tuples of the form (mass number,element name,mass_MeV)\n",
    "    user_isotope = get_user_isotope()\n",
    "    #same, but in amu masses\n",
    "    #user_isotope_amu = (user_isotope[0],user_isotope[1],user_isotope[2]/931.5)\n",
    "\n",
    "    \n",
    "    beam_isotope = Isotope(user_isotope[0],user_isotope[1],-1,-2) #-1,-2 are initializations of the J-pi.\n",
    "\n",
    "    #get our initial spin-parity values\n",
    "    get_user_spin_parity(beam_isotope)\n",
    "    \n",
    "    #update our spin-parities\n",
    "    #beam_isotope.spin = beam_jp[0]\n",
    "    #beam_isotope.parity = beam_jp[1]\n",
    "    #print(beam_isotope)\n",
    "    \n",
    "    user_energy = get_user_beam_energy()\n",
    "\n",
    "    #we also need to get the deuteron\n",
    "    target = Isotope(2,'H',1,1) #spin of 1+ for ground-state of deuteron\n",
    "    #print(deuteron)\n",
    "\n",
    "    #define our ejectile\n",
    "    ejectile = Isotope(1,'H',0.5,1) #proton has spin 1/2+\n",
    "\n",
    "   \n",
    "\n",
    "    #create the states in the final nucleus here\n",
    "    num_states = get_user_number_states()\n",
    "    final_states = []\n",
    "    for _ in range(num_states):\n",
    "         #calculate our recoil\n",
    "        recoil = create_recoil(beam_isotope,target,ejectile)\n",
    "        get_user_excited_state(recoil)\n",
    "        calculate_q_value(beam_isotope,target,ejectile,recoil)\n",
    "        final_states.append(recoil)\n",
    "\n",
    "\n",
    "    for i in range(len(final_states)):\n",
    "        print(final_states[i])\n",
    "\n",
    "\n",
    "\n",
    "\n",
    "\n",
    "    #constructiong of the FRESCO file here\n",
    "    #create the header (non-fresco) string\n",
    "\n",
    "    #fresco_string = f' {str(user_isotope[0])+user_isotope[1]}(d,p){str(user_isotope[0]+1)+user_isotope[1]} at {user_energy} MeV'\n",
    "    fresco_string = f' {beam_isotope.isotope}(d,p){recoil.isotope}'\n",
    "    #print(fresco_string)\n",
    "\n",
    "    #add the header that starts the FRESCO initialization\n",
    "    #fresco_string += '\\n' + construct_fresco_header(user_energy)\n",
    "    #add the first partition for the beam and target\n",
    "    #fresco_string += '\\n\\n' + construct_partition(user_isotope_amu,deuteron,(5,2)) #(5,2) just a placeholder for now\n",
    "\n",
    "    \n",
    "    #target_jp = get_user_spin_parity(deuteron)\n",
    "\n",
    "    #fresco_string+='\\n\\n' + construct_states(beam_jp,target_jp)\n",
    "    \n",
    "    \n",
    "    print('\\n')\n",
    "    print(fresco_string)\n",
    "    print(beam_isotope)\n"
   ]
  },
  {
   "cell_type": "code",
   "execution_count": 179,
   "id": "a9d94359-b2b5-404a-ac0f-114d5604296b",
   "metadata": {},
   "outputs": [
    {
     "name": "stdin",
     "output_type": "stream",
     "text": [
      "Please enter the name (ex: Kr): Kr\n",
      "Please enter the mass number:  86\n"
     ]
    },
    {
     "name": "stdout",
     "output_type": "stream",
     "text": [
      "Even-even nucleus. Using spin 0+\n"
     ]
    },
    {
     "name": "stdin",
     "output_type": "stream",
     "text": [
      "Enter total beam energy (MeV):  3\n",
      "Enter the number of states to populate:  1\n",
      "Enter the excited-state energy (MeV):  0\n",
      "Enter the spin:  0\n",
      "Please enter the parity (±1):  1\n"
     ]
    },
    {
     "name": "stdout",
     "output_type": "stream",
     "text": [
      "Isotope: 87Kr\n",
      "A: 87\n",
      "Element: Kr\n",
      "Z: 36\n",
      "Mass (MeV): 80959.79\n",
      "Mass (amu): 86.913\n",
      "J: 0.0\n",
      "Parity: 1\n",
      "Exc. energy (MeV): 0.0\n",
      "Q-value (MeV): 3.290627729627886\n",
      "L-transfer: 0\n",
      "\n",
      "\n",
      " 86Kr(d,p)87Kr\n",
      "Isotope: 86Kr\n",
      "A: 86\n",
      "Element: Kr\n",
      "Z: 36\n",
      "Mass (MeV): 80025.734\n",
      "Mass (amu): 85.911\n",
      "J: 0\n",
      "Parity: 1\n",
      "Exc. energy (MeV): 0\n",
      "Q-value (MeV): 0\n",
      "L-transfer: 0\n"
     ]
    }
   ],
   "source": [
    "Fresco_constructor()"
   ]
  },
  {
   "cell_type": "code",
   "execution_count": null,
   "id": "19369693-2603-492f-8d53-406c39dbc75a",
   "metadata": {},
   "outputs": [],
   "source": []
  }
 ],
 "metadata": {
  "kernelspec": {
   "display_name": "Python 3 (ipykernel)",
   "language": "python",
   "name": "python3"
  },
  "language_info": {
   "codemirror_mode": {
    "name": "ipython",
    "version": 3
   },
   "file_extension": ".py",
   "mimetype": "text/x-python",
   "name": "python",
   "nbconvert_exporter": "python",
   "pygments_lexer": "ipython3",
   "version": "3.12.4"
  }
 },
 "nbformat": 4,
 "nbformat_minor": 5
}
