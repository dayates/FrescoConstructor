{
 "cells": [
  {
   "cell_type": "markdown",
   "id": "081f42c6-56cf-4a72-ad04-f33619787e7f",
   "metadata": {},
   "source": [
    "# Fresco Constructor\n",
    "\n",
    "This code is used for constructing [FRESCO](http://www.fresco.org.uk/) coupled-channel reaction input files.\n",
    "\n",
    "This code is only suitable for (d,p) reactions."
   ]
  },
  {
   "cell_type": "code",
   "execution_count": 2,
   "id": "0c6990fa-8cf3-4e49-a749-6db24b64356a",
   "metadata": {},
   "outputs": [],
   "source": [
    "#imports\n",
    "import numpy as np\n",
    "import pandas as pd\n",
    "import re"
   ]
  },
  {
   "cell_type": "markdown",
   "id": "c9045c7b-679b-4cda-aaca-23de70cda8d2",
   "metadata": {},
   "source": [
    "### Mass Data Imports\n",
    "\n",
    "Here we import the [Atomic Mass Evaluation 2020](https://www-nds.iaea.org/amdc/) for use in the reaction codes."
   ]
  },
  {
   "cell_type": "code",
   "execution_count": 4,
   "id": "28ab186c-2c8d-4dcc-b3a4-4986d9a17409",
   "metadata": {},
   "outputs": [],
   "source": [
    "#import NNDC Masses as a Pandas DataFrame\n",
    "masses = pd.read_fwf(\"mass_1.mas20.txt\",skiprows=33,infer_nrows=3500) \n",
    "#infer rows to almost the entire thing so that it parses the larger N,Z,A values correctly\n"
   ]
  },
  {
   "cell_type": "code",
   "execution_count": 5,
   "id": "ddc4e81f-7a91-4ae2-a144-980ae67b5476",
   "metadata": {},
   "outputs": [],
   "source": [
    "#masses.head()"
   ]
  },
  {
   "cell_type": "code",
   "execution_count": 6,
   "id": "36e02587-a302-4d80-bd32-c92ed0ae605b",
   "metadata": {},
   "outputs": [],
   "source": [
    "#drop some columns we don't care about\n",
    "masses.drop(['1N-Z','O','MASS EXCESS           BINDING ENERGY/A        BETA-DECAY ENERGY'],axis=1,inplace=True)\n"
   ]
  },
  {
   "cell_type": "code",
   "execution_count": 7,
   "id": "5c0d5e08-da28-4b70-8258-500854c5b524",
   "metadata": {},
   "outputs": [],
   "source": [
    "#drop the units underneath the header keys\n",
    "masses.drop([0],axis=0,inplace=True)"
   ]
  },
  {
   "cell_type": "code",
   "execution_count": 8,
   "id": "e821c719-2aaa-4320-8886-fd9a65dedc95",
   "metadata": {},
   "outputs": [],
   "source": [
    "#masses.head()"
   ]
  },
  {
   "cell_type": "code",
   "execution_count": 9,
   "id": "8ddfb901-e1b5-4f0f-a4c7-835e49429f79",
   "metadata": {},
   "outputs": [],
   "source": [
    "#convert the split mass (in micro-amu) into a single micro-amu column\n",
    "masses['Atomic Mass (micro-amu)'] = masses['ATOMIC MASS'].apply(lambda x: float(x.split(\"#\")[0])) + masses['Unnamed: 7']*1e6\n",
    "#the split(\"#\") is needed to remove any of the \"#\" that appear due to estimated errors \n",
    "\n",
    "#if *'s are also present in the data:\n",
    "#masses['Atomic Mass'] = masses['ATOMIC MASS'].apply(lambda x: float(re.split(\"# *\",x)[0])) + masses['Unnamed: 7']*1e6\n"
   ]
  },
  {
   "cell_type": "code",
   "execution_count": 10,
   "id": "26d709df-511c-4071-83fa-13b312ab18ec",
   "metadata": {},
   "outputs": [],
   "source": [
    "#create masses in MeV\n",
    "masses['Atomic Mass (MeV)'] = masses['Atomic Mass (micro-amu)'] *931.5/1.e6 #931.5 MeV = 1 amu. Also convert from micro-amu to amu"
   ]
  },
  {
   "cell_type": "code",
   "execution_count": 11,
   "id": "a7cd2269-3dd1-4b3b-9cc2-09eacf94ddc4",
   "metadata": {},
   "outputs": [
    {
     "data": {
      "text/html": [
       "<div>\n",
       "<style scoped>\n",
       "    .dataframe tbody tr th:only-of-type {\n",
       "        vertical-align: middle;\n",
       "    }\n",
       "\n",
       "    .dataframe tbody tr th {\n",
       "        vertical-align: top;\n",
       "    }\n",
       "\n",
       "    .dataframe thead th {\n",
       "        text-align: right;\n",
       "    }\n",
       "</style>\n",
       "<table border=\"1\" class=\"dataframe\">\n",
       "  <thead>\n",
       "    <tr style=\"text-align: right;\">\n",
       "      <th></th>\n",
       "      <th>N</th>\n",
       "      <th>Z</th>\n",
       "      <th>A</th>\n",
       "      <th>EL</th>\n",
       "      <th>Unnamed: 7</th>\n",
       "      <th>ATOMIC MASS</th>\n",
       "      <th>Unnamed: 9</th>\n",
       "      <th>Atomic Mass (micro-amu)</th>\n",
       "      <th>Atomic Mass (MeV)</th>\n",
       "    </tr>\n",
       "  </thead>\n",
       "  <tbody>\n",
       "    <tr>\n",
       "      <th>1</th>\n",
       "      <td>1.0</td>\n",
       "      <td>0.0</td>\n",
       "      <td>1.0</td>\n",
       "      <td>n</td>\n",
       "      <td>1.0</td>\n",
       "      <td>008664.91590</td>\n",
       "      <td>0.00047</td>\n",
       "      <td>1.008665e+06</td>\n",
       "      <td>939.571369</td>\n",
       "    </tr>\n",
       "    <tr>\n",
       "      <th>2</th>\n",
       "      <td>0.0</td>\n",
       "      <td>1.0</td>\n",
       "      <td>1.0</td>\n",
       "      <td>H</td>\n",
       "      <td>1.0</td>\n",
       "      <td>007825.031898</td>\n",
       "      <td>0.000014</td>\n",
       "      <td>1.007825e+06</td>\n",
       "      <td>938.789017</td>\n",
       "    </tr>\n",
       "    <tr>\n",
       "      <th>3</th>\n",
       "      <td>1.0</td>\n",
       "      <td>1.0</td>\n",
       "      <td>2.0</td>\n",
       "      <td>H</td>\n",
       "      <td>2.0</td>\n",
       "      <td>014101.777844</td>\n",
       "      <td>0.000015</td>\n",
       "      <td>2.014102e+06</td>\n",
       "      <td>1876.135806</td>\n",
       "    </tr>\n",
       "    <tr>\n",
       "      <th>4</th>\n",
       "      <td>2.0</td>\n",
       "      <td>1.0</td>\n",
       "      <td>3.0</td>\n",
       "      <td>H</td>\n",
       "      <td>3.0</td>\n",
       "      <td>016049.28132</td>\n",
       "      <td>0.00008</td>\n",
       "      <td>3.016049e+06</td>\n",
       "      <td>2809.449906</td>\n",
       "    </tr>\n",
       "    <tr>\n",
       "      <th>5</th>\n",
       "      <td>1.0</td>\n",
       "      <td>2.0</td>\n",
       "      <td>3.0</td>\n",
       "      <td>He</td>\n",
       "      <td>3.0</td>\n",
       "      <td>016029.32197</td>\n",
       "      <td>0.00006</td>\n",
       "      <td>3.016029e+06</td>\n",
       "      <td>2809.431313</td>\n",
       "    </tr>\n",
       "  </tbody>\n",
       "</table>\n",
       "</div>"
      ],
      "text/plain": [
       "     N    Z    A  EL  Unnamed: 7    ATOMIC MASS Unnamed: 9  \\\n",
       "1  1.0  0.0  1.0   n         1.0   008664.91590    0.00047   \n",
       "2  0.0  1.0  1.0   H         1.0  007825.031898   0.000014   \n",
       "3  1.0  1.0  2.0   H         2.0  014101.777844   0.000015   \n",
       "4  2.0  1.0  3.0   H         3.0   016049.28132    0.00008   \n",
       "5  1.0  2.0  3.0  He         3.0   016029.32197    0.00006   \n",
       "\n",
       "   Atomic Mass (micro-amu)  Atomic Mass (MeV)  \n",
       "1             1.008665e+06         939.571369  \n",
       "2             1.007825e+06         938.789017  \n",
       "3             2.014102e+06        1876.135806  \n",
       "4             3.016049e+06        2809.449906  \n",
       "5             3.016029e+06        2809.431313  "
      ]
     },
     "execution_count": 11,
     "metadata": {},
     "output_type": "execute_result"
    }
   ],
   "source": [
    "masses.head()"
   ]
  },
  {
   "cell_type": "code",
   "execution_count": 12,
   "id": "a1e01726-72bb-4f6c-96c4-ca859d787dd1",
   "metadata": {},
   "outputs": [],
   "source": [
    "#function for retrieving the isotope mass\n",
    "def get_isotope_mass(element,A):\n",
    "    try:\n",
    "        mass = float(masses[(masses['EL']== element) & (masses['A'] == A)]['Atomic Mass (MeV)'].iloc[0])\n",
    "        #mass_amu = float(masses[(masses['EL']== element) & (masses['A'] == A)]['Atomic Mass (micro-amu)'].iloc[0])\n",
    "    except:\n",
    "        #if the mass is not present in the AME, return 0 to signal to get_user_isotope that the user should try again\n",
    "        return 0\n",
    "    else:\n",
    "        return mass\n",
    "    \n",
    "    \n",
    "    #return float(masses[(masses['EL']== element) & (masses['A'] == A)]['Atomic Mass (MeV)'].iloc[0])\n",
    "    #.iloc[0] is needed to avoid deprecated TypeError warning\n"
   ]
  },
  {
   "cell_type": "code",
   "execution_count": 13,
   "id": "fa3163c2-47c6-4b28-b4c8-4c4978886a4f",
   "metadata": {},
   "outputs": [],
   "source": [
    "#all of the elements\n",
    "atomicElements = \"H He Li Be B C N O F Ne Na Mg Al Si P S Cl Ar K Ca Sc Ti V Cr Mn Fe Co Ni Cu Zn Ga Ge As Se Br Kr Rb Sr Y Zr Nb Mo Tc Ru Rh Pd Ag Cd In Sn Sb Te I Xe Cs Ba La Ce P Nd Pm Sm Eu Gd Tb Dy Ho Er Tm Yb Lu Hf Ta W Re Os Ir Pt Au Hg Tl Pb Bi Po At Rn Fr Ra Ac Th Pa U Np Pu Am Cm Bk Cf Es Fm Md No Lr Rf Db Sg Bh Hs Mt Ds Rg Cn Nh Fl Mc Lv Ts Og\".split(\" \")\n",
    "\n",
    "#function for getting user input for \n",
    "def get_user_isotope():\n",
    "    isotope_mass = 0\n",
    "    \n",
    "    while not isotope_mass:\n",
    "    \n",
    "        element = \"BAD\"\n",
    "        mass_number = -1\n",
    "        \n",
    "        #get the element\n",
    "        while element not in atomicElements:\n",
    "            element = input(\"Please enter the name (ex: Kr):\" )\n",
    "        \n",
    "        #get the mass number\n",
    "        while mass_number not in range(1,300):\n",
    "            try:\n",
    "                mass_number = int(input(\"Please enter the mass number: \"))\n",
    "            except:\n",
    "                print(\"Looks like you did not enter an integer!\")\n",
    "            else:\n",
    "                if (mass_number not in range(1,300)):\n",
    "                    print(\"Mass number out of range!\\nMust have mass 1-300\")\n",
    "            \n",
    "        isotope_mass = get_isotope_mass(element,mass_number)\n",
    "        #if this returns 0, then the mass is not found in the AME2020.\n",
    "    \n",
    "\n",
    "        if not isotope_mass:\n",
    "            print(f'Isotope {mass_number}{element} does not exist in the AME2020. Try again!')\n",
    "\n",
    "        #print(f'Selected isotope: {mass_number}{element}, mass {round(isotope_mass,3)} MeV')\n",
    "\n",
    "    #now return this A,El, mass as a tuple\n",
    "    return (mass_number,element,isotope_mass)\n"
   ]
  },
  {
   "cell_type": "code",
   "execution_count": 14,
   "id": "fb80151b-7b17-4e6a-a572-ef9ff1ed6b8c",
   "metadata": {},
   "outputs": [],
   "source": [
    "#kr93 = get_user_isotope()\n",
    "#kr93"
   ]
  },
  {
   "cell_type": "code",
   "execution_count": 64,
   "id": "c20374e0-ca2f-4b8c-a26d-905f79d37716",
   "metadata": {},
   "outputs": [],
   "source": [
    "#get the beam energy\n",
    "\n",
    "def get_user_beam_energy():\n",
    "\n",
    "    beam_energy = -1\n",
    "    \n",
    "    #get the beam energy\n",
    "    while beam_energy < 0:\n",
    "        \n",
    "        try:\n",
    "            beam_energy = float(input(\"Enter total beam energy (MeV): \"))\n",
    "        except:\n",
    "            print(\"Beam energy is not a number (>0). Try again\")\n",
    "            #continue\n",
    "        else:\n",
    "            if (beam_energy > 0):\n",
    "                return beam_energy\n",
    "    "
   ]
  },
  {
   "cell_type": "code",
   "execution_count": 16,
   "id": "0f25c352-193c-49eb-b842-51b48ce501dc",
   "metadata": {},
   "outputs": [],
   "source": [
    "#get_user_beam_energy()"
   ]
  },
  {
   "cell_type": "code",
   "execution_count": 17,
   "id": "9587696f-8ddc-4397-a6ec-5fbcceaf78ae",
   "metadata": {},
   "outputs": [],
   "source": [
    "#simple function to determine the Z of the nucleus\n",
    "def get_proton_number(elem):\n",
    "    return atomicElements.index(elem)+1"
   ]
  },
  {
   "cell_type": "code",
   "execution_count": 18,
   "id": "338f57aa-ba59-4a71-84d1-f7b3c4cedb98",
   "metadata": {},
   "outputs": [],
   "source": [
    "#get_proton_number('Og')"
   ]
  },
  {
   "cell_type": "code",
   "execution_count": 19,
   "id": "86f72395-c6c7-4959-b8a4-ceae3a1a0cd9",
   "metadata": {},
   "outputs": [],
   "source": [
    "#initial setup of the FRESCO header info. This is mostly unchanged from reaction to reaction\n",
    "def construct_fresco_header(lab_energy):\n",
    "\n",
    "    file = open('build_template_files/NAMELIST.txt','r')\n",
    "    namelist_header = file.read()\n",
    "    namelist_header = namelist_header.replace(\"LAB_ENERGY\",str(lab_energy)) #lab energy in MeV\n",
    "        \n",
    "    #print(namelist_header)\n",
    "\n",
    "    return namelist_header\n"
   ]
  },
  {
   "cell_type": "code",
   "execution_count": 20,
   "id": "3d69c4dd-da80-4240-b13a-f1f2cf591fc4",
   "metadata": {},
   "outputs": [],
   "source": [
    "#partition function\n",
    "\n",
    "def construct_partition(beam,target,reac): #beam is a tuple of A,El,mass\n",
    "    file = open('build_template_files/PARTITION.txt','r')\n",
    "    partition_info = file.read()\n",
    "\n",
    "    #unpack tuples\n",
    "    A,El,mass = beam\n",
    "    A_targ, El_targ, mass_targ = target\n",
    "    q_val, n_states = reac\n",
    "\n",
    "    #reassign parts\n",
    "    partition_info = partition_info.replace('BEAM_ISOTOPE',f\"' {A}{El}'\")\n",
    "    #print(type(mass))\n",
    "    partition_info = partition_info.replace('BEAM_MASS',str(round(float(mass),3)))\n",
    "    partition_info = partition_info.replace('BEAM_Z', str(get_proton_number(El))) #plus one because we index at 0, but periodic table indexes as t\n",
    "    partition_info = partition_info.replace('TARGET_NAME',f\"' {A_targ}{El_targ}'\")\n",
    "    partition_info = partition_info.replace('TARGET_MASS',str(round(float(mass_targ),3)))\n",
    "    partition_info = partition_info.replace('TARGET_Z',str(get_proton_number(El))) #plus one because of indexing again\n",
    "    partition_info = partition_info.replace('Q_VALUE',str(q_val))\n",
    "    partition_info = partition_info.replace('NUM_STATES',str(n_states))\n",
    "    \n",
    "    #print(partition_info)\n",
    "    return partition_info"
   ]
  },
  {
   "cell_type": "code",
   "execution_count": 21,
   "id": "f5d2b835-e746-40a3-9747-f9c3ff1f3df4",
   "metadata": {},
   "outputs": [],
   "source": [
    "#construct_partition(('A','Kr','13.23423432'),('B','H','32.323242342'),('1.34','5'))"
   ]
  },
  {
   "cell_type": "code",
   "execution_count": 127,
   "id": "1c35d4bf-078c-4788-acd3-fc8da757b715",
   "metadata": {},
   "outputs": [],
   "source": [
    "#state function\n",
    "def construct_states(beam,target):\n",
    "    file = open('build_template_files/STATE.txt','r')\n",
    "    state_info = file.read()\n",
    "\n",
    "    #unpack\n",
    "    j_beam, p_beam = beam\n",
    "    j_targ, p_targ = target\n",
    "\n",
    "    state_info = state_info.replace('BEAM_J',str(j_beam))\n",
    "    state_info = state_info.replace('BEAM_PARITY',str(p_beam))\n",
    "    state_info = state_info.replace('TARGET_J',str(j_targ))\n",
    "    state_info = state_info.replace('TARGET_PARITY',str(p_targ))\n",
    "    \n",
    "    #print(state_info)\n",
    "    return state_info\n"
   ]
  },
  {
   "cell_type": "code",
   "execution_count": 129,
   "id": "ee5adb7f-0417-459e-9c5e-71272eb09804",
   "metadata": {},
   "outputs": [],
   "source": [
    "#construct_states(('3','+'),('4','$'))"
   ]
  },
  {
   "cell_type": "code",
   "execution_count": 140,
   "id": "2341f1c5-6d4d-43a5-a933-7bd7d878e0ab",
   "metadata": {},
   "outputs": [],
   "source": [
    "#get the spin-parity for the parent state\n",
    "def get_user_spin_parity(beam):\n",
    "\n",
    "    A,El,mass = beam\n",
    "    Z = get_proton_number(El) #find the z of our nucleus\n",
    "\n",
    "    #if we have an even-even nucleus, return 0+\n",
    "    #return the form (spin,parity) where parity is defined by +-1\n",
    "    if (0 == A%2) and (0 == Z%2):\n",
    "        print(\"Even-even nucleus. Using spin 0+\")\n",
    "        return (0,1)\n",
    "\n",
    "    #if we have a deuteron, we know what that is too:\n",
    "    elif (2 == A) and ('H' == El):\n",
    "        return (1,1)\n",
    "\n",
    "    \n",
    "    else:\n",
    "        #get a spin that is an whole number of positive half-integer\n",
    "        possible_spins = np.linspace(0,20,41) #unlikely to have a spin higher than 20\n",
    "        spin = -1\n",
    "        \n",
    "        while spin not in possible_spins:\n",
    "            try:\n",
    "                spin = float(input(\"Enter the spin: \"))\n",
    "            except:\n",
    "                print(\"Spin was not a number!\")\n",
    "                #continue\n",
    "            else:\n",
    "                if (spin not in possible_spins):\n",
    "                    print(\"Spin is not an non-negative integer or half-integer!\")\n",
    "\n",
    "        #now get the parity:\n",
    "        parity = 0\n",
    "        while parity not in (-1,1):\n",
    "            try:\n",
    "                parity = int(input(u\"Please enter the parity (\\u00B11): \"))\n",
    "            except:\n",
    "                print(\"Parity is not a number!\")\n",
    "            else:\n",
    "                if parity not in (-1,1):\n",
    "                    print(u\"Parity not in \\u00B11\")\n",
    "\n",
    "    return(spin,parity)"
   ]
  },
  {
   "cell_type": "code",
   "execution_count": 133,
   "id": "97f5240e-9bbb-4799-b804-4cce38f0cc9d",
   "metadata": {},
   "outputs": [],
   "source": [
    "#get_user_spin_parity((99,'Kr',324))"
   ]
  },
  {
   "cell_type": "code",
   "execution_count": null,
   "id": "122d2f89-940d-4e3b-9349-27f11cae50e2",
   "metadata": {},
   "outputs": [],
   "source": []
  },
  {
   "cell_type": "code",
   "execution_count": 146,
   "id": "9e41a96a-8cb9-41ea-8918-c7a132616cff",
   "metadata": {},
   "outputs": [],
   "source": [
    "#construction of the file in the function here\n",
    "\n",
    "def Fresco_constructor():\n",
    "\n",
    "    #First, get the beam that we want for the (d,p) reaction:\n",
    "    #isotopes are saved as tuples of the form (mass number,element name,mass_MeV)\n",
    "    user_isotope = get_user_isotope()\n",
    "    #same, but in amu masses\n",
    "    user_isotope_amu = (user_isotope[0],user_isotope[1],user_isotope[2]/931.5)\n",
    "\n",
    "    #print(user_isotope)\n",
    "\n",
    "    user_energy = get_user_beam_energy()\n",
    "\n",
    "    #print(user_energy)\n",
    "\n",
    "    #we also need to get the deuteron\n",
    "    deuteron = (2,'H',get_isotope_mass('H',2))\n",
    "    #print(deuteron)\n",
    "\n",
    "    #create the header (non-fresco) string\n",
    "\n",
    "    fresco_string = f' {str(user_isotope[0])+user_isotope[1]}(d,p){str(user_isotope[0]+1)+user_isotope[1]} at {user_energy} MeV'\n",
    "\n",
    "    #print(fresco_string)\n",
    "\n",
    "    #add the header that starts the FRESCO initialization\n",
    "    fresco_string += '\\n' + construct_fresco_header(user_energy)\n",
    "    #add the first partition for the beam and target\n",
    "    fresco_string += '\\n\\n' + construct_partition(user_isotope_amu,deuteron,(5,2)) #(5,2) just a placeholder for now\n",
    "\n",
    "    #get our initial spin-parity values\n",
    "    beam_jp = get_user_spin_parity(user_isotope)\n",
    "    target_jp = get_user_spin_parity(deuteron)\n",
    "\n",
    "    fresco_string+='\\n\\n' + construct_states(beam_jp,target_jp)\n",
    "    \n",
    "    \n",
    "    print('\\n')\n",
    "    print(fresco_string)\n",
    "    \n"
   ]
  },
  {
   "cell_type": "code",
   "execution_count": 148,
   "id": "a9d94359-b2b5-404a-ac0f-114d5604296b",
   "metadata": {},
   "outputs": [
    {
     "name": "stdin",
     "output_type": "stream",
     "text": [
      "Please enter the name (ex: Kr): Kr\n",
      "Please enter the mass number:  88\n",
      "Enter total beam energy (MeV):  3\n"
     ]
    },
    {
     "name": "stdout",
     "output_type": "stream",
     "text": [
      "Even-even nucleus. Using spin 0+\n",
      "\n",
      "\n",
      " 88Kr(d,p)89Kr at 3.0 MeV\n",
      "NAMELIST\n",
      " &FRESCO hcm=0.1 rmatch=45.000 rintp=0.20 \n",
      "    hnl=0.100 rnl=20 centre=-3.5 hnn=0.8 rnn=8. \n",
      "    rmin=0.2 rsp=0.0 jtmin=0.0 jtmax=50 absend=-0.0000 \n",
      "    jump= 0  jbord= 0 thmin=1.00 thmax=180.00 thinc=1.00 \n",
      "    cutl=-2 cutr=0.00 cutc=0.00 ips=0.0000 it0=1 \n",
      "    iter=1 iblock=1 nnu=24 chans=1 smats=2\n",
      "    xstabl=1 elab= 3.0  nlab= 0 psiren=T /\n",
      "\n",
      " &PARTITION namep=' 88Kr' massp=87.914 zp=36 namet=' 2H' \n",
      "\t masst=1876.136 zt=36 qval=5 pwf=F nex=2  /\n",
      "\n",
      " &STATES jp=0 bandp=1 cpot=1 jt=1 \n",
      "\t bandt=1  /\n"
     ]
    }
   ],
   "source": [
    "Fresco_constructor()"
   ]
  },
  {
   "cell_type": "code",
   "execution_count": null,
   "id": "4324ccd1-c1ec-44c3-b0af-c2fd1498d851",
   "metadata": {},
   "outputs": [],
   "source": []
  }
 ],
 "metadata": {
  "kernelspec": {
   "display_name": "Python 3 (ipykernel)",
   "language": "python",
   "name": "python3"
  },
  "language_info": {
   "codemirror_mode": {
    "name": "ipython",
    "version": 3
   },
   "file_extension": ".py",
   "mimetype": "text/x-python",
   "name": "python",
   "nbconvert_exporter": "python",
   "pygments_lexer": "ipython3",
   "version": "3.12.4"
  }
 },
 "nbformat": 4,
 "nbformat_minor": 5
}
